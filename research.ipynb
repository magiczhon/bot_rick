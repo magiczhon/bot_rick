{
 "metadata": {
  "language_info": {
   "codemirror_mode": {
    "name": "ipython",
    "version": 3
   },
   "file_extension": ".py",
   "mimetype": "text/x-python",
   "name": "python",
   "nbconvert_exporter": "python",
   "pygments_lexer": "ipython3",
   "version": "3.8.5"
  },
  "orig_nbformat": 2,
  "kernelspec": {
   "name": "python385jvsc74a57bd0b3ba2566441a7c06988d0923437866b63cedc61552a5af99d1f4fb67d367b25f",
   "display_name": "Python 3.8.5 64-bit ('base': conda)"
  }
 },
 "nbformat": 4,
 "nbformat_minor": 2,
 "cells": [
  {
   "cell_type": "code",
   "execution_count": 94,
   "metadata": {},
   "outputs": [],
   "source": [
    "import pandas as pd\n",
    "from gensim.models import Word2Vec\n",
    "import translator\n",
    "import nltk\n",
    "import re\n",
    "import compress_fasttext\n",
    "from gensim.matutils import hellinger\n",
    "\n",
    "def get_ans(model, question, dialog_df):\n",
    "    min_dist = 5\n",
    "    index_ans = 0\n",
    "    current_question_vector = model[question]\n",
    "    for i in range(1, len(dialog_df)):\n",
    "        tmp = hellinger(current_question_vector, dialog_df.iloc[i][\"question_vector\"])\n",
    "        if tmp < min_dist:\n",
    "            index_ans = i\n",
    "            min_dist = tmp\n",
    "    if min_dist == float(\"inf\"):\n",
    "        print(\"WTF Morty?!\")\n",
    "    print(index_ans)\n",
    "    return dialog_df.iloc[index_ans][\"rick_answer\"]"
   ]
  },
  {
   "cell_type": "code",
   "execution_count": 86,
   "metadata": {},
   "outputs": [],
   "source": [
    "model = compress_fasttext.models.CompressedFastTextKeyedVectors.load('ft_freqprune_100K_20K_pq_100.bin')\n",
    "df = pd.read_csv(\"RickAndMortyScripts.csv\")\n"
   ]
  },
  {
   "cell_type": "code",
   "execution_count": 87,
   "metadata": {},
   "outputs": [],
   "source": [
    "df = pd.read_csv(\"RickAndMortyScripts.csv\")\n",
    "q_a = {\"question\": [],\n",
    "\"question_vector\": [],\n",
    "\"rick_answer\": []}\n",
    "\n",
    "for i in range(1, len(df)):\n",
    "    if df.iloc[i][\"name\"] == \"Rick\":\n",
    "        processed_sentences = re.sub('[^a-zA-Z]', ' ', df.iloc[i - 1][\"line\"])\n",
    "        processed_sentences = re.sub(r'\\s+', ' ', processed_sentences)\n",
    "        processed_sentences = processed_sentences.lower().strip()\n",
    "        q_a[\"question\"].append(processed_sentences)\n",
    "\n",
    "        question_vector = model[processed_sentences]\n",
    "        q_a[\"question_vector\"].append(question_vector)\n",
    "\n",
    "        q_a[\"rick_answer\"].append(str(df.iloc[i][\"line\"]).strip())\n",
    "\n",
    "dialog_df = pd.DataFrame(q_a)"
   ]
  },
  {
   "cell_type": "code",
   "execution_count": 96,
   "metadata": {},
   "outputs": [
    {
     "output_type": "stream",
     "name": "stdout",
     "text": [
      "0\n"
     ]
    },
    {
     "output_type": "execute_result",
     "data": {
      "text/plain": [
       "'I got a surprise for you, Morty.'"
      ]
     },
     "metadata": {},
     "execution_count": 96
    }
   ],
   "source": [
    "question = \"summer\"\n",
    "processed_question = re.sub('[^a-zA-Z]', ' ', question)\n",
    "processed_question = re.sub(r'\\s+', ' ', processed_question).strip()\n",
    "\n",
    "get_ans(model, question, dialog_df)"
   ]
  },
  {
   "cell_type": "code",
   "execution_count": null,
   "metadata": {},
   "outputs": [],
   "source": []
  },
  {
   "cell_type": "code",
   "execution_count": null,
   "metadata": {},
   "outputs": [],
   "source": []
  },
  {
   "cell_type": "code",
   "execution_count": null,
   "metadata": {},
   "outputs": [],
   "source": []
  },
  {
   "cell_type": "code",
   "execution_count": null,
   "metadata": {},
   "outputs": [],
   "source": []
  },
  {
   "cell_type": "code",
   "execution_count": null,
   "metadata": {},
   "outputs": [],
   "source": []
  },
  {
   "cell_type": "code",
   "execution_count": null,
   "metadata": {},
   "outputs": [],
   "source": []
  },
  {
   "cell_type": "code",
   "execution_count": null,
   "metadata": {},
   "outputs": [],
   "source": []
  },
  {
   "cell_type": "code",
   "execution_count": null,
   "metadata": {},
   "outputs": [],
   "source": []
  },
  {
   "cell_type": "code",
   "execution_count": null,
   "metadata": {},
   "outputs": [],
   "source": []
  },
  {
   "cell_type": "code",
   "execution_count": 139,
   "metadata": {},
   "outputs": [],
   "source": [
    "text_corpus = \"\"\n",
    "for q, a in zip(q_a[\"question\"], q_a[\"rick_answer\"]):\n",
    "    text_corpus += q + a\n",
    "\n",
    "processed_corpus = text_corpus.lower()\n",
    "processed_corpus = re.sub('[^a-zA-Z]', ' ', processed_corpus)\n",
    "processed_corpus = re.sub(r'\\s+', ' ', processed_corpus)\n",
    "\n",
    "all_sentences = nltk.sent_tokenize(processed_corpus)\n",
    "\n",
    "all_words = [nltk.word_tokenize(sent) for sent in all_sentences]\n",
    "\n"
   ]
  },
  {
   "cell_type": "code",
   "execution_count": 2,
   "metadata": {},
   "outputs": [],
   "source": [
    "import compress_fasttext\n",
    "small_model = compress_fasttext.models.CompressedFastTextKeyedVectors.load('ft_freqprune_100K_20K_pq_100.bin')"
   ]
  },
  {
   "cell_type": "code",
   "execution_count": 5,
   "metadata": {},
   "outputs": [
    {
     "output_type": "execute_result",
     "data": {
      "text/plain": [
       "array([ 0.13110986, -0.0485603 ,  0.1551765 ,  0.1136049 ,  0.24795978,\n",
       "        0.08807904,  0.24855559, -0.18549074, -0.0846779 ,  0.00810757,\n",
       "        0.012767  ,  0.01831891,  0.00107013, -0.23492092,  0.15226482,\n",
       "        0.01684536, -0.37691095, -0.17924933, -0.2659698 ,  0.23667234,\n",
       "       -0.10273985,  0.01162705, -0.05706436,  0.04499562, -0.02204469,\n",
       "        0.2589312 ,  0.15623276, -0.25687432, -0.04107109, -0.00821406,\n",
       "        0.0412891 , -0.2632787 ,  0.10350209,  0.02270521, -0.21140532,\n",
       "       -0.04430548,  0.13401178,  0.14237739,  0.21604113, -0.01272561,\n",
       "       -0.18928093, -0.14980209,  0.14792268, -0.01264149, -0.00860912,\n",
       "       -0.2130779 ,  0.12064153,  0.24402033, -0.10591666,  0.00695037,\n",
       "       -0.01800833,  0.03278804, -0.25524208,  0.00739244, -0.4093175 ,\n",
       "        0.20440988, -0.2022382 , -0.32148302,  0.10389668, -0.09814054,\n",
       "       -0.17055868,  0.08309765,  0.07999682, -0.16179886,  0.21551524,\n",
       "        0.04188219, -0.45850682, -0.01510532, -0.14468919,  0.16321866,\n",
       "        0.14665417,  0.03555382, -0.3021635 ,  0.29105595,  0.01110477,\n",
       "       -0.17576987,  0.32726637,  0.04654365, -0.2546212 ,  0.10908739,\n",
       "       -0.1029025 ,  0.03873998,  0.2833127 ,  0.05479144,  0.07013566,\n",
       "       -0.06376344, -0.11624864,  0.04196516,  0.01566149,  0.0417278 ,\n",
       "       -0.0868044 , -0.09627274,  0.01985075,  0.05447591, -0.23723982,\n",
       "       -0.19565399, -0.07990445, -0.02865892,  0.06056333,  0.05085897,\n",
       "       -0.00901475, -0.00473077,  0.14117977,  0.06128   ,  0.27612755,\n",
       "        0.13410196, -0.15233453,  0.12233645,  0.16243304, -0.04411841,\n",
       "        0.05257462, -0.18601312,  0.05527898,  0.1667136 ,  0.0867303 ,\n",
       "       -0.22185998, -0.05376391,  0.168866  , -0.08880127,  0.41859403,\n",
       "       -0.11591434, -0.06856736,  0.19847824,  0.23303771, -0.07486243,\n",
       "        0.02356973, -0.03701877, -0.3151164 , -0.17115402,  0.12657747,\n",
       "        0.44804633, -0.11971292,  0.03245957,  0.16669725,  0.0547506 ,\n",
       "        0.24564303, -0.26656392, -0.00755154, -0.11929726, -0.03705298,\n",
       "       -0.19070904, -0.00855776,  0.28640395, -0.13858539, -0.01088024,\n",
       "        0.25373086,  0.07015171,  0.1086865 ,  0.06089018,  0.00206497,\n",
       "       -0.13816337,  0.31845322, -0.02885055,  0.10036317, -0.08763731,\n",
       "        0.03025755,  0.14470796, -0.0365988 ,  0.13779148,  0.03909285,\n",
       "        0.13661423,  0.29614288,  0.20903791,  0.18091041,  0.1454964 ,\n",
       "       -0.04257444,  0.17362635, -0.14551727,  0.04720534, -0.11475796,\n",
       "       -0.02658224, -0.03345233, -0.12874742,  0.33074096, -0.29345682,\n",
       "       -0.09587136, -0.05799005,  0.06302861, -0.04992697,  0.11730656,\n",
       "        0.08718425,  0.10625228, -0.1969108 ,  0.03701726, -0.04942564,\n",
       "        0.01538458, -0.01789223, -0.05255306, -0.01710995, -0.00745981,\n",
       "       -0.18560146, -0.04135409, -0.26665765, -0.09316877, -0.19795085,\n",
       "        0.0885193 ,  0.00461672,  0.27179468, -0.02771091,  0.23238821,\n",
       "       -0.16727038,  0.03624877,  0.12145054,  0.07957426,  0.32017565,\n",
       "        0.23386276,  0.03737276,  0.2541181 , -0.11053062, -0.03691257,\n",
       "       -0.10715746, -0.01207824, -0.26976612, -0.07645008, -0.12849022,\n",
       "        0.3063333 , -0.02746565, -0.11224961, -0.00866138, -0.11729347,\n",
       "       -0.2822459 , -0.08972618, -0.1298213 , -0.10410913, -0.08457514,\n",
       "        0.16452277,  0.08972258, -0.15529156,  0.45950687,  0.07719906,\n",
       "       -0.14221616,  0.17233968,  0.0502367 ,  0.04088126, -0.31554016,\n",
       "       -0.16169184,  0.16652326,  0.16770422, -0.1680352 , -0.08732432,\n",
       "       -0.019378  , -0.08524109,  0.20037661, -0.20463152,  0.01674965,\n",
       "       -0.11289489,  0.0080865 , -0.03391707, -0.3151525 , -0.06986237,\n",
       "        0.26184097,  0.15090464,  0.34076777,  0.07305535, -0.03852012,\n",
       "        0.36282086,  0.23325652, -0.24401282, -0.0980233 , -0.0998337 ,\n",
       "        0.06010464, -0.02699151,  0.2626899 ,  0.03783892, -0.02034144,\n",
       "        0.04335736, -0.06572812, -0.24269044, -0.01486209,  0.17750205,\n",
       "        0.1230608 , -0.03015237,  0.02411362, -0.00378009, -0.19269466,\n",
       "       -0.24996287, -0.01954795,  0.08638483, -0.0862766 , -0.10408139,\n",
       "       -0.31374145,  0.05750402, -0.24267723, -0.2537471 ,  0.07214358,\n",
       "       -0.07830753, -0.19765292, -0.05606796,  0.04397031, -0.06857341,\n",
       "        0.05186755,  0.0461606 ,  0.23439342,  0.04609919,  0.24595845,\n",
       "        0.26722756,  0.04882639, -0.10272136,  0.07188454,  0.14135109],\n",
       "      dtype=float32)"
      ]
     },
     "metadata": {},
     "execution_count": 5
    }
   ],
   "source": []
  },
  {
   "cell_type": "code",
   "execution_count": null,
   "metadata": {},
   "outputs": [],
   "source": []
  },
  {
   "cell_type": "code",
   "execution_count": null,
   "metadata": {},
   "outputs": [],
   "source": []
  },
  {
   "cell_type": "code",
   "execution_count": null,
   "metadata": {},
   "outputs": [],
   "source": []
  },
  {
   "cell_type": "code",
   "execution_count": null,
   "metadata": {},
   "outputs": [],
   "source": []
  },
  {
   "cell_type": "code",
   "execution_count": null,
   "metadata": {},
   "outputs": [],
   "source": []
  },
  {
   "cell_type": "code",
   "execution_count": null,
   "metadata": {},
   "outputs": [],
   "source": []
  },
  {
   "cell_type": "code",
   "execution_count": null,
   "metadata": {},
   "outputs": [],
   "source": []
  },
  {
   "cell_type": "code",
   "execution_count": 126,
   "metadata": {},
   "outputs": [],
   "source": [
    "w2v = Word2Vec(all_words, min_count=1)"
   ]
  },
  {
   "cell_type": "code",
   "execution_count": 132,
   "metadata": {},
   "outputs": [
    {
     "output_type": "execute_result",
     "data": {
      "text/plain": [
       "[('morty', 0.9914398193359375),\n",
       " ('na', 0.9912588596343994),\n",
       " ('like', 0.9910969138145447),\n",
       " ('anything', 0.9907241463661194),\n",
       " ('gon', 0.9907216429710388),\n",
       " ('thing', 0.9906896948814392),\n",
       " ('take', 0.9906733632087708),\n",
       " ('know', 0.990661084651947),\n",
       " ('go', 0.9905597567558289),\n",
       " ('time', 0.9905242919921875)]"
      ]
     },
     "metadata": {},
     "execution_count": 132
    }
   ],
   "source": [
    "w2v.wv.most_similar('fuck')"
   ]
  },
  {
   "cell_type": "code",
   "execution_count": 131,
   "metadata": {},
   "outputs": [
    {
     "output_type": "execute_result",
     "data": {
      "text/plain": [
       "array([-0.03788393,  0.06187856, -0.01079316, -0.0008278 ,  0.01283611,\n",
       "       -0.09447502,  0.03891255,  0.13143453, -0.06176809, -0.02081023,\n",
       "       -0.04064504, -0.08523719, -0.01307356,  0.01068309,  0.02086353,\n",
       "       -0.04889321,  0.01080107, -0.06764631, -0.0090631 , -0.124521  ,\n",
       "        0.05609237,  0.0167732 ,  0.02253558, -0.03893124, -0.0204845 ,\n",
       "        0.00530296, -0.05748105, -0.02593389, -0.05277042,  0.02161043,\n",
       "        0.088224  ,  0.01860459,  0.04009062, -0.05744675, -0.00644998,\n",
       "        0.07150437,  0.02332792, -0.04998118, -0.04224335, -0.10362121,\n",
       "       -0.01404793, -0.0678109 , -0.02494645,  0.00163701,  0.04166202,\n",
       "       -0.02663231, -0.05841006, -0.00482787,  0.01999325,  0.03703485,\n",
       "        0.03913338, -0.07410674, -0.03854606,  0.0269664 , -0.04559948,\n",
       "        0.04184761,  0.03072273, -0.01635152, -0.07497445,  0.03204093,\n",
       "        0.01494666,  0.02096568,  0.00793585, -0.00672741, -0.06913458,\n",
       "        0.05877812,  0.00322863,  0.06068138, -0.09888199,  0.07358112,\n",
       "       -0.03949324,  0.04298064,  0.06687619, -0.01745522,  0.04835962,\n",
       "        0.00532119,  0.00779441, -0.01840014, -0.04570562,  0.00377609,\n",
       "       -0.03588679, -0.0067275 , -0.05816143,  0.09314349, -0.02273131,\n",
       "       -0.0130557 ,  0.00908833,  0.08478694,  0.06429934,  0.03377161,\n",
       "        0.09058157,  0.03485493,  0.03020624,  0.00808309,  0.09968136,\n",
       "        0.06546599,  0.04417824, -0.0630812 ,  0.02873379, -0.00834599],\n",
       "      dtype=float32)"
      ]
     },
     "metadata": {},
     "execution_count": 131
    }
   ],
   "source": [
    "w2v.wv[\"fuck\"]"
   ]
  },
  {
   "cell_type": "code",
   "execution_count": 134,
   "metadata": {},
   "outputs": [
    {
     "output_type": "execute_result",
     "data": {
      "text/plain": [
       " depends on who breaks first me or the titty if we stay here you ll die along with all your memories if you take me where i want to go she ll be there too won t she the day i invented the portal gun is the day i lost her oh that sounds cool i can get what i want and you can say goodbye fine but i m driving where are we going to the day it all began and ended the moment that changed everything to the day it all began and ended the moment that changed everything yeah i d like to get a piece mcnugget and a bunch of the szechuan sauce like as much as you re allowed to give me in they had this promotion for the disney film mulan where they where they they created a new sauce for the mcnuggets called szechuan sauce and it s delicious and then they got rid of it and now it s gone this is the only place we re gonna be able to try it is in my memory rick you re doing this bit while your brain is melting okay all right all right is that me i used to wear blue pants when d you make the leap to interdimensional travel i didn t i did whoa i is that it the portal gun yeah that s the three lines of math that separates my life as a man from my life as an unfeeling ghost yeah thanks rick i ll try to remember to shut off the brainalyzer actually i think it shuts off automatically once your brain is liquid don t know don t care pull me out hey pull me out can you hear me nope they cannot why not because the code you just uploaded wasn t actually my portal gun formula it was a virus giving me full control over the brainalyzer what are you talking about this is a memory y you can t alter details of a memory true but you can alter anything you want about a totally fabricated origin story it s a trap abort i m still in his shoney s repeat we never left his shoney s mission accomplished boys pull me out mission accomplished boys pull me out okay have fun in what s left of my brain i m gonna transfer to yours oh there s not enough room for all my genius so i m leaving you with my fear of wicker furniture my desire to play the trumpet my tentative plans to purchase a hat and six years of improv workshops comedy comes in threes grandpa rick duh rick morty take this you re gonna need it later that s enough rick what what s this supposed to accomplish we have infinite grandkids you re trying to use disney bucks at a caesar s palace here you re a rogue rick irrational passionate you love your grandkids you came to rescue them i came to kill you bro that s not even my original summer why not shoot through her yards nine gauge plasma pistol my first shot would liquify her insides and injure you second shot adds recoil the risk to me is minimized if i wait for you to shoot her which i m encouraging you to do what the fuck or let her go which i will reward with a quicker death because you love her because it s incentive for you to give me my cleanest shot which will be your least painful death but if you want to die slower than that i m super into it all you got to do to get that started is kill the girl i hate you not an issue sweetie that s enough drop the gun rick morty i know you re too stupid to get this but you re really fuckin this up right now i m not letting you let my sister die drop the gun i wasn t gonna let her die you fuckin moron aww the point is he thought i was going to morty you fucking idiot you re a serious fuckin idiot morty you basically killed us all you re the worst you re as dumb as a bag of sand that was amazing morty oh my god wow okay let s wrap this good job morty let s go kids what what happened oldest rick trick in the book can t we just portal home not until i finish what i started and that is how you get level nine access without a password not until i finish what i started and that is how you get level nine access without a password employee of the month ladies and gentlemen so what are you doing with level nine access anyways destroying the galactic government ooh or or reprogram their military portals to disintegrate their entire space fleet good pitches kids i m almost proud but watch closely as grandpa topples an empire by changing a one to a zero just each other and i ll never let you go and i m so sorry i ever did this to us guess who dismantled the government please don t leave me again i never will baby i was right he turned himself in on purpose it was all part of his plan jerry is there any light beer left it s insane what you miss in prison um okay no no no no foot down time no you re right where s the vodka beth it s him or me seems like you guys need some privacy i ll uh i ll be in the garage seems like you guys need some privacy i ll uh i ll be in the garage what the fuck not cool jerry a man s garage is his castle jerry s going to spend some time divorced oh i i m sorry to hear that sweetie i hope i had nothing to do with that oh god dad that is not your burden to bear i feel terrible that i misjudged you this is gonna be good for jerry for everybody geez are my parents seriously gonna get divorced all right rick i m gonna go to my not so fast morty you heard your mom we ve got adventures to go on morty just you and me and sometimes your sister and sometimes your mom but never your dad you want to know why morty because he crossed me okay take it easy rick t t that s dark oh it gets darker morty welcome to the darkest year of our adventures first thing that s different no more dad morty oh geez he threatened to turn me in to the government so i made him and the government go away oh fuck i ve replaced them both as the de facto patriarch of your family and your universe your mom wouldn t have accepted me if i came home oh man without you and your sister so now you know the real reason i rescued you oh i just took over the family morty and if you tell your mom oh man or sister i said any of this i ll deny it you re gonna deny it and they ll take my side because i m a hero morty and now you re gonna have to go oh and do whatever i say morty forever and i ll i ll go out and i ll find some more of that mulan szechuan teriyaki dipping sauce morty what are you talking about because that s that s what this is all about morty szechuan that s my one armed man i m not driven by avenging my dead family morty that was fake i i i m driven by finding that mcnugget sauce mcnuggets i want that mulan mcnugget sauce morty that s my series arc morty what the hell if it takes nine seasons i want my mcnugget dipping sauce szechuan sauce morty what are you talking about rick that s what s gonna take us all the way to the end morty what are you talking about season nine more seasons morty nine more seasons until i get that dipping szechuan sauce what is that for more years morty what are you talking about i want that mcnugget sauce morty weird breed man i missed having hands and blood and a stomach really like go somewhere yeah let s drop the kids off and go tie one on absolutely so what are you thinking like smokey s tavern maybe shoney s yeah either one either one yeah either one either one you ll never get away with this concerto you ll never get away with this concerto this is it morty we re goners we re not getting out of this one after everything we ve been through this is how we re gonna die make peace with your god oh geez rick i i i don t want to die jaguar who who was that rick that morty is why you don t go to therapy that morty is why you don t go to therapy don t let any of those things get away morty if their dna gets into earth s food chain our entire species could be sterilized then why aren t we killing them great next time i need a species sterilized who s gonna do it for me you oh rick i is that the vindibeacon we re being called to assemble by the vindicators i refuse to answer a literal call to adventure morty let it go to voicemail rick the vindicators only call when the universe itself is at stake they re first line of defense against evil they re the guardians of the unguarded they re the writers of their own press releases morty they re a bunch of drama queens that spend an hour talking and twenty minutes jumping around while shit blows up they re a phase we did one it was the big event of that summer let it die i morty smith invoke my right to choose one in every ten rick and morty adventures read em and weep god fuckin dammit fine but don t say i didn t warn you yes vindicator command ship beacon received we re doing vindicators twoooooooooo whoops uh morty you might want to freeze some sperm and this time he s out to end more than worlds we have reason to believe his stronghold is located on my balls the terraneus system once in range million ants will scan for pheromone activity which should lead us to the location of the base oh that s million ants i can t see the ants over here it just assumed that was uh turd man wiggly turd man rick you have something to add to the briefing uh yeah just a few more design notes um this guy the uh the uh uh yeah just a few more design notes um this guy the uh the uh right crocubot so you re half cold unfeeling reptile half also cold equally unfeeling machine right crocubot so you re half cold unfeeling reptile half also cold equally unfeeling machine so you re origin is what y you fell into a vat of redundancy noob noob we re having a briefing if i can continue rick i anticipate sophisticated security measures i trust you can be of service there well let me check my list of powers and weaknesses ability to do anything but only whenever i want yeah that sounds like a job for me i wish he had the ability to check is attitude alan rails ladies and gentleman after his parents tragic death in a railroad accident he gained the power to summon ghiost trains it s not all bad though they were spared having to see their grown son wear a whistle alan rails ladies and gentleman after his parents tragic death in a railroad accident he gained the power to summon ghiost trains it s not all bad though they were spared having to see their grown son wear a whistle thanks noob noob this guy gets it happy hour uh i was also late because of my drinking and metioned it to zero applause did he say three for three did he say he never forgets a kid are you sure there s not just a picnic nearby i guess he found his crowd pretty toothless stuff guys i guess he found his crowd pretty toothless stuff guys i hope you re happy with the adventure so far morty these guys are even lamer than last time we weren t here last time remember they did a whole vindicators without us a bunch of them got killed too they lost lady katana calypso diablo verde yikes yeah things did feel less diverse in there this article says the reason we weren t involved was personality conflicts don t worry morty they love you superheroes need a wide eyed unremarkable to tag along and react to everything like it s mind blowing i think the personality conflict might have been you jesus how awesome is that i mean they wanted to not need me so bad they murdered three innocent heroes of color and they still had to bring me back rick since it s my adventure and all could you do me a favor uh the adventure is the favor morty me sleeping on these linens is the favor i mean w w w what what are we vindicating comfort rick this really bums me out it it s embarrassing to find out these guys don t like us why morty i defeat gagoos more powerful than these guys every week yeah but not heroes oh please they just call themselves heroes so they can i m calling them that rick they re my heroes mine huh no accounting for taste i m gonna go get a drink someone wake up sanchez ugh oh christ rick you re up barely rick we re taking fire from an automated turret can you bring it offline uh huh uh huh uh my god that s better rick hey i can t help if i can t see i could ve just used a ghost train really you don t say you would have used a ghost train hey everybody the ghost train guy would have used a ghost train man fuck you is there coffee hey morty can you be a pal grandpa left his coffee maker on the ship y you know the french press thing get it yourself little extra snippy this morning aren t you just focus on the mission all right oh oh oh i m sorry oh you re right ooh real serious gotta take it real serious huh well he is the worldender the guy ends worlds kind of his thing ooh real scared real fucking on alert high alwrt over here i sense his life force is fading million ants ladies and gentleman the ant colony with the power of two human eyes million ants ladies and gentleman the ant colony with the power of two human eyes all right short mission good mission remember when alan wanted to use a ghost train see you guys in vindicators morty he s right this is far from over well have fun with that but morty and i have to meet a comet girl a monorail man two assholes and a full alligator in like an hour well have fun with that but morty and i have to meet a comet girl a monorail man two assholes and a full alligator in like an hour shit check check one two okay is it recording good hello vindicators welcome to your reckoning babyyyyyyyy welp it s official i had too much to drink last night rick what s going on buddy obviously i came here last night during a blackout obviously you came here and defeated our arch nemesis while so drunk you don t remember doing it that s something obvious to you look i m a lit little more complex than you guys and no offense but i ve always suspected that a lot of what you do in a year could be knocked out in a couple of hours rick is is this a saw thing are you seriously saw ing the vindicators morty i m a drunk not a hack if you break the rules lose the game or try to leave you will die like in sawwww well i i i think we ve seen enough i ll just figure out how to unplug this screw this i m not playing his game i m gonna find us a way out of here whoa whoa whoa hold on vance he said you d die if you tried to leave that means there s booby traps why are you acting like that s not you what part of blackout don t you understand i thought you drank give me one good reason why i shouldn t crush your windpipe because my epidermis is laced with a nanofiber defense mesh because my epidermis is laced with a nanofiber defense mesh and because like i said i don t remember last night i told you not to invite this mummified motherfucker back alan i m not proud of what s happening here but if you keep coming at me there s gonna be another passenger on that ghost train the two of us i hope you re proud of yourself uh i kind of am i saved the goddamn universe that s not the issue rick ahh it would ve been if i hadn t crocubot don t huh i m seeing more croc than bot here oh o okay this again you know i could have made a device to detect doomnomitron from orbit like that i it s just something rick starts talking about whenever he s blackout drunk w what in w in w w what in what way like w w what s my point in a way that has no point you just babble about defense budgets and the united nations and then you pass out so to be clear i sometimes reference the geopolitical complexities of the topic which is not the same as going to an anti semitic place i have no stake in this i don t either i i m just saying if anything the drunk version of me is probably so supportive of israel he wants what s best for it and you guys hit the baskets i ll disarm the drunkenly improvised neutrino bomb there s a chance it s a dud but y you should still stay back morty how many of these too many rick too many man i am really getting high roaded today that s a three pointer where the fuck is the lead wire you always put it in the weirdest place um uh over here maybe jesus christ what a shitty neutrino bomb it s a miracle i actually every destroy anything oh i don t know you managed to destroy just about everything today the villains the heroes the lines between them my childhood thank you i appreciate it morty i know you were sucking the kool aid out of the vindicators dicks so the fact that i was right about them must be pretty hard to admit yeah it is you know why rick because when you re an asshole it doesn t matter how right you are nobody wants to give you the satisfaction i know everyone wants people they like to be right that s why popular people are fucking dumb and why your pretentious poorly written high budget friends back there can a eat a double decker shit sandwich disarmed stop oof didn t see that comin is that sarcasm i don t want you slipping away then this is over all of these deaths are on your hands oh come on maybe a couple of them but definitely not the train guy all of them o kayyy jesus okay open to second opinions i could it could be morty what hey i don t know i mean look when i get drunk i get stupid and emotional and there s no logic to it it s like possible i got so drunk i felt like i was losing morty to the vindicators and maybe this is my way of saying okay you can have him but only if you know how important he is otherwise i ll kill you that is a really specific guess look i there s nothing in the room but us i m just using logic to connect some dots it s the best guess i ve got i ll cover that bet i get it well morty i think you re making that smirky face because you re misinterpreting the moment i am not being coy about some hidden love for you i want to be really clear that if anyone has a better guess like if i gave you an amulet last night or well morty i think you re making that smirky face because you re misinterpreting the moment i am not being coy about some hidden love for you i want to be really clear that if anyone has a better guess like if i gave you an amulet last night or oh shit you re fucking cool and you re smart and i bet we coulda hung out and shit and i hope you get to be a full fledged vindicator a and d do me a favor do don t let him know i i got emotional but you can tell him one thing tell him i said oh fuck okay i just shit myself okay later w dude morty what happened i greater good titty bean it s the galaxy s faith in the vindicators that keeps the galaxy secure yeah i feel safer already no doubt who do we make the check out to i ll say we are gettin some good licks in while choking to death goodbye my love damn she double crossed snuzzles let s give a huge thanks to rick sanchez for killing worldender putting this awesome party together and for booking one of the hottest talents out therelook at that geez i must ve planned a whole party invited a bunch of people not bad drunk rick not bad rick supernova s getting away ah who cares but she was trying to kill us morty twenty people try to kill me every week i end up getting high with half of em i mean check it out gear head s here man grandpa rick must have gotten shitfaced shut up summer shut up summer who the fuck is noob noob who the fuck is noob noob alright morty you ready for our adventure to the lost city of atlantis ready as i ll ever be rick oh for fuck s sake oh for fuck s sake what are you stupid we re done with the citadel of ricks i was never on board with it in the first place that s why i murdered everyone in charge and left it to rot yeah he knows he murdered them every day every day you don t have to be a dick geez i didn t know there were still ricks and mortys living on the citadel i wonder what their day to day lives are like well you can keep wondering that while we go on our fun fresh self contained adventure to atlantis anyone continuing to explore the citadel is either stupid or one of the unfortunate millions held hostage by their terrible ideas holy crap slick s wish came true whoa hahaha yeah atlantis baby that was amazing got some of that mermaid puss i m really hoping it wasn t a one off thing and i can see her again by the way hey um still not curious about what might ve happened at that crazy citadel place pssh not at all morty that place will never have any bearing over our lives ever again unlike that mermaid puss yeah we re going back for seconds we re gonna do that shit every week man that was atlantis']"
      ]
     },
     "metadata": {},
     "execution_count": 134
    }
   ],
   "source": [
    "all_sentences"
   ]
  },
  {
   "cell_type": "code",
   "execution_count": 137,
   "metadata": {},
   "outputs": [
    {
     "output_type": "execute_result",
     "data": {
      "text/plain": [
       "12668"
      ]
     },
     "metadata": {},
     "execution_count": 137
    }
   ],
   "source": [
    "len(all_words[0])"
   ]
  },
  {
   "cell_type": "code",
   "execution_count": null,
   "metadata": {},
   "outputs": [],
   "source": []
  },
  {
   "cell_type": "code",
   "execution_count": null,
   "metadata": {},
   "outputs": [],
   "source": []
  },
  {
   "cell_type": "code",
   "execution_count": null,
   "metadata": {},
   "outputs": [],
   "source": []
  },
  {
   "cell_type": "code",
   "execution_count": null,
   "metadata": {},
   "outputs": [],
   "source": []
  },
  {
   "cell_type": "code",
   "execution_count": null,
   "metadata": {},
   "outputs": [],
   "source": []
  },
  {
   "cell_type": "code",
   "execution_count": 41,
   "metadata": {},
   "outputs": [],
   "source": []
  },
  {
   "cell_type": "code",
   "execution_count": null,
   "metadata": {},
   "outputs": [],
   "source": []
  }
 ]
}